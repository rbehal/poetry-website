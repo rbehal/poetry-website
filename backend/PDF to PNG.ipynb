{
 "cells": [
  {
   "cell_type": "code",
   "execution_count": 1,
   "metadata": {},
   "outputs": [],
   "source": [
    "import cloudconvert\n",
    "import os\n",
    "import zipfile"
   ]
  },
  {
   "cell_type": "code",
   "execution_count": 49,
   "metadata": {},
   "outputs": [
    {
     "data": {
      "text/plain": [
       "<cloudconvert.process.Process at 0x5f13100>"
      ]
     },
     "execution_count": 49,
     "metadata": {},
     "output_type": "execute_result"
    }
   ],
   "source": [
    "# Calling api to convert images\n",
    "pdf_name = 'Energy Changes - Chapter 5.pdf' \n",
    "\n",
    "api = cloudconvert.Api('tpdYmzoswVXlDQoU0qz54F7sCs9HOBu06lkDV3BJz8oyUhGBpgbDQD3Fw0goOhKH')\n",
    " \n",
    "process = api.convert({\n",
    "    \"inputformat\": \"pdf\",\n",
    "    \"outputformat\": \"png\",\n",
    "    \"input\": \"upload\",\n",
    "    \"file\": open(pdf_name, 'rb')\n",
    "})\n",
    "\n",
    "process.wait()\n",
    "\n",
    "# Downloading images to raw_images folder\n",
    "process.download(\"raw_images\")"
   ]
  },
  {
   "cell_type": "code",
   "execution_count": 50,
   "metadata": {},
   "outputs": [],
   "source": [
    "# Extracting zip file\n",
    "with zipfile.ZipFile(\"raw_images/\" + zip_file, 'r') as zip_ref:\n",
    "    zip_ref.extractall(\"raw_images\")"
   ]
  },
  {
   "cell_type": "code",
   "execution_count": 51,
   "metadata": {},
   "outputs": [],
   "source": [
    "# Deleting zip file\n",
    "os.remove(\"raw_images/\" + zip_file)"
   ]
  },
  {
   "cell_type": "code",
   "execution_count": 52,
   "metadata": {},
   "outputs": [],
   "source": [
    "for filename in os.listdir(\"raw_images\"):\n",
    "    if filename.endswith(\".png\"):\n",
    "        image_path = \"raw_images/\"\n",
    "        if (filename[-7:-4].isdigit()):\n",
    "            os.rename(image_path + filename, image_path + filename[-7:-4] + \".png\")\n",
    "        elif (filename[-6:-4].isdigit()):\n",
    "            os.rename(image_path + filename, image_path + filename[-6:-4] + \".png\")\n",
    "        elif (filename[-5].isdigit()):\n",
    "            os.rename(image_path + filename, image_path + filename[-5] + \".png\")    \n",
    "    else:\n",
    "        continue"
   ]
  }
 ],
 "metadata": {
  "kernelspec": {
   "display_name": "Python 3",
   "language": "python",
   "name": "python3"
  },
  "language_info": {
   "codemirror_mode": {
    "name": "ipython",
    "version": 3
   },
   "file_extension": ".py",
   "mimetype": "text/x-python",
   "name": "python",
   "nbconvert_exporter": "python",
   "pygments_lexer": "ipython3",
   "version": "3.8.3"
  }
 },
 "nbformat": 4,
 "nbformat_minor": 4
}
